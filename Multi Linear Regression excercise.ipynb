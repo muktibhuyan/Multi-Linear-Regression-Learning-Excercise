{
 "cells": [
  {
   "cell_type": "code",
   "execution_count": 1,
   "id": "d5fa802b",
   "metadata": {},
   "outputs": [],
   "source": [
    "import pandas as pd\n",
    "import numpy as np\n",
    "import seaborn as sns\n",
    "\n",
    "import matplotlib.pyplot as plt\n",
    "\n",
    "\n",
    "import scipy\n",
    "import math\n",
    "from sklearn.model_selection import train_test_split"
   ]
  },
  {
   "cell_type": "code",
   "execution_count": 2,
   "id": "147471c2",
   "metadata": {},
   "outputs": [
    {
     "data": {
      "text/html": [
       "<div>\n",
       "<style scoped>\n",
       "    .dataframe tbody tr th:only-of-type {\n",
       "        vertical-align: middle;\n",
       "    }\n",
       "\n",
       "    .dataframe tbody tr th {\n",
       "        vertical-align: top;\n",
       "    }\n",
       "\n",
       "    .dataframe thead th {\n",
       "        text-align: right;\n",
       "    }\n",
       "</style>\n",
       "<table border=\"1\" class=\"dataframe\">\n",
       "  <thead>\n",
       "    <tr style=\"text-align: right;\">\n",
       "      <th></th>\n",
       "      <th>Hours Studied</th>\n",
       "      <th>Previous Scores</th>\n",
       "      <th>Extracurricular Activities</th>\n",
       "      <th>Sleep Hours</th>\n",
       "      <th>Sample Question Papers Practiced</th>\n",
       "      <th>Performance Index</th>\n",
       "    </tr>\n",
       "  </thead>\n",
       "  <tbody>\n",
       "    <tr>\n",
       "      <th>0</th>\n",
       "      <td>7</td>\n",
       "      <td>99</td>\n",
       "      <td>Yes</td>\n",
       "      <td>9</td>\n",
       "      <td>1</td>\n",
       "      <td>91.0</td>\n",
       "    </tr>\n",
       "    <tr>\n",
       "      <th>1</th>\n",
       "      <td>4</td>\n",
       "      <td>82</td>\n",
       "      <td>No</td>\n",
       "      <td>4</td>\n",
       "      <td>2</td>\n",
       "      <td>65.0</td>\n",
       "    </tr>\n",
       "    <tr>\n",
       "      <th>2</th>\n",
       "      <td>8</td>\n",
       "      <td>51</td>\n",
       "      <td>Yes</td>\n",
       "      <td>7</td>\n",
       "      <td>2</td>\n",
       "      <td>45.0</td>\n",
       "    </tr>\n",
       "    <tr>\n",
       "      <th>3</th>\n",
       "      <td>5</td>\n",
       "      <td>52</td>\n",
       "      <td>Yes</td>\n",
       "      <td>5</td>\n",
       "      <td>2</td>\n",
       "      <td>36.0</td>\n",
       "    </tr>\n",
       "    <tr>\n",
       "      <th>4</th>\n",
       "      <td>7</td>\n",
       "      <td>75</td>\n",
       "      <td>No</td>\n",
       "      <td>8</td>\n",
       "      <td>5</td>\n",
       "      <td>66.0</td>\n",
       "    </tr>\n",
       "    <tr>\n",
       "      <th>...</th>\n",
       "      <td>...</td>\n",
       "      <td>...</td>\n",
       "      <td>...</td>\n",
       "      <td>...</td>\n",
       "      <td>...</td>\n",
       "      <td>...</td>\n",
       "    </tr>\n",
       "    <tr>\n",
       "      <th>9995</th>\n",
       "      <td>1</td>\n",
       "      <td>49</td>\n",
       "      <td>Yes</td>\n",
       "      <td>4</td>\n",
       "      <td>2</td>\n",
       "      <td>23.0</td>\n",
       "    </tr>\n",
       "    <tr>\n",
       "      <th>9996</th>\n",
       "      <td>7</td>\n",
       "      <td>64</td>\n",
       "      <td>Yes</td>\n",
       "      <td>8</td>\n",
       "      <td>5</td>\n",
       "      <td>58.0</td>\n",
       "    </tr>\n",
       "    <tr>\n",
       "      <th>9997</th>\n",
       "      <td>6</td>\n",
       "      <td>83</td>\n",
       "      <td>Yes</td>\n",
       "      <td>8</td>\n",
       "      <td>5</td>\n",
       "      <td>74.0</td>\n",
       "    </tr>\n",
       "    <tr>\n",
       "      <th>9998</th>\n",
       "      <td>9</td>\n",
       "      <td>97</td>\n",
       "      <td>Yes</td>\n",
       "      <td>7</td>\n",
       "      <td>0</td>\n",
       "      <td>95.0</td>\n",
       "    </tr>\n",
       "    <tr>\n",
       "      <th>9999</th>\n",
       "      <td>7</td>\n",
       "      <td>74</td>\n",
       "      <td>No</td>\n",
       "      <td>8</td>\n",
       "      <td>1</td>\n",
       "      <td>64.0</td>\n",
       "    </tr>\n",
       "  </tbody>\n",
       "</table>\n",
       "<p>10000 rows × 6 columns</p>\n",
       "</div>"
      ],
      "text/plain": [
       "      Hours Studied  Previous Scores Extracurricular Activities  Sleep Hours  \\\n",
       "0                 7               99                        Yes            9   \n",
       "1                 4               82                         No            4   \n",
       "2                 8               51                        Yes            7   \n",
       "3                 5               52                        Yes            5   \n",
       "4                 7               75                         No            8   \n",
       "...             ...              ...                        ...          ...   \n",
       "9995              1               49                        Yes            4   \n",
       "9996              7               64                        Yes            8   \n",
       "9997              6               83                        Yes            8   \n",
       "9998              9               97                        Yes            7   \n",
       "9999              7               74                         No            8   \n",
       "\n",
       "      Sample Question Papers Practiced  Performance Index  \n",
       "0                                    1               91.0  \n",
       "1                                    2               65.0  \n",
       "2                                    2               45.0  \n",
       "3                                    2               36.0  \n",
       "4                                    5               66.0  \n",
       "...                                ...                ...  \n",
       "9995                                 2               23.0  \n",
       "9996                                 5               58.0  \n",
       "9997                                 5               74.0  \n",
       "9998                                 0               95.0  \n",
       "9999                                 1               64.0  \n",
       "\n",
       "[10000 rows x 6 columns]"
      ]
     },
     "execution_count": 2,
     "metadata": {},
     "output_type": "execute_result"
    }
   ],
   "source": [
    "df = pd.read_csv(r\"C:\\Users\\ASUS\\Desktop\\PYTHON\\EDA dataset\\STATS DECISION\\REGRESSION\\multi linear regression\\Student_Performance.csv\")\n",
    "df"
   ]
  },
  {
   "cell_type": "code",
   "execution_count": 3,
   "id": "619dc1cd",
   "metadata": {},
   "outputs": [
    {
     "name": "stdout",
     "output_type": "stream",
     "text": [
      "<class 'pandas.core.frame.DataFrame'>\n",
      "RangeIndex: 10000 entries, 0 to 9999\n",
      "Data columns (total 6 columns):\n",
      " #   Column                            Non-Null Count  Dtype  \n",
      "---  ------                            --------------  -----  \n",
      " 0   Hours Studied                     10000 non-null  int64  \n",
      " 1   Previous Scores                   10000 non-null  int64  \n",
      " 2   Extracurricular Activities        10000 non-null  object \n",
      " 3   Sleep Hours                       10000 non-null  int64  \n",
      " 4   Sample Question Papers Practiced  10000 non-null  int64  \n",
      " 5   Performance Index                 10000 non-null  float64\n",
      "dtypes: float64(1), int64(4), object(1)\n",
      "memory usage: 468.9+ KB\n"
     ]
    }
   ],
   "source": [
    "df.info()"
   ]
  },
  {
   "cell_type": "code",
   "execution_count": 17,
   "id": "4926ee99",
   "metadata": {},
   "outputs": [
    {
     "data": {
      "image/png": "[encoded data removed]",
      "text/plain": [
       "<Figure size 640x480 with 1 Axes>"
      ]
     },
     "metadata": {},
     "output_type": "display_data"
    },
    {
     "data": {
      "text/plain": [
       "<Figure size 500x500 with 0 Axes>"
      ]
     },
     "metadata": {},
     "output_type": "display_data"
    }
   ],
   "source": [
    "sns.boxplot(x= df[\"Hours Studied\"])\n",
    "plt.figure(figsize = [5,5])\n",
    "plt.show()"
   ]
  },
  {
   "cell_type": "code",
   "execution_count": 18,
   "id": "eb526e81",
   "metadata": {},
   "outputs": [
    {
     "data": {
      "image/png": "[encoded data removed]",
      "text/plain": [
       "<Figure size 640x480 with 1 Axes>"
      ]
     },
     "metadata": {},
     "output_type": "display_data"
    },
    {
     "data": {
      "text/plain": [
       "<Figure size 500x500 with 0 Axes>"
      ]
     },
     "metadata": {},
     "output_type": "display_data"
    }
   ],
   "source": [
    "sns.boxplot(x= df[\"Previous Scores\"])\n",
    "plt.figure(figsize = [5,5])\n",
    "plt.show()"
   ]
  },
  {
   "cell_type": "code",
   "execution_count": 19,
   "id": "46d90f75",
   "metadata": {},
   "outputs": [
    {
     "data": {
      "image/png": "[encoded data removed]",
      "text/plain": [
       "<Figure size 640x480 with 1 Axes>"
      ]
     },
     "metadata": {},
     "output_type": "display_data"
    },
    {
     "data": {
      "text/plain": [
       "<Figure size 500x500 with 0 Axes>"
      ]
     },
     "metadata": {},
     "output_type": "display_data"
    }
   ],
   "source": [
    "sns.boxplot(x= df[\"Sleep Hours\"])\n",
    "plt.figure(figsize = [5,5])\n",
    "plt.show()"
   ]
  },
  {
   "cell_type": "code",
   "execution_count": 20,
   "id": "53a79ecd",
   "metadata": {},
   "outputs": [
    {
     "data": {
      "image/png": "[encoded data removed]",
      "text/plain": [
       "<Figure size 640x480 with 1 Axes>"
      ]
     },
     "metadata": {},
     "output_type": "display_data"
    },
    {
     "data": {
      "text/plain": [
       "<Figure size 500x500 with 0 Axes>"
      ]
     },
     "metadata": {},
     "output_type": "display_data"
    }
   ],
   "source": [
    "sns.boxplot(x= df[\"Sample Question Papers Practiced\"])\n",
    "plt.figure(figsize = [5,5])\n",
    "plt.show()"
   ]
  },
  {
   "cell_type": "code",
   "execution_count": 21,
   "id": "0f7895f5",
   "metadata": {},
   "outputs": [
    {
     "data": {
      "image/png": "[encoded data removed]",
      "text/plain": [
       "<Figure size 640x480 with 1 Axes>"
      ]
     },
     "metadata": {},
     "output_type": "display_data"
    },
    {
     "data": {
      "text/plain": [
       "<Figure size 500x500 with 0 Axes>"
      ]
     },
     "metadata": {},
     "output_type": "display_data"
    }
   ],
   "source": [
    "sns.boxplot(x= df[\"Performance Index\"])\n",
    "plt.figure(figsize = [5,5])\n",
    "plt.show()"
   ]
  },
  {
   "cell_type": "code",
   "execution_count": 11,
   "id": "19fa3412",
   "metadata": {},
   "outputs": [
    {
     "data": {
      "text/html": [
       "<div>\n",
       "<style scoped>\n",
       "    .dataframe tbody tr th:only-of-type {\n",
       "        vertical-align: middle;\n",
       "    }\n",
       "\n",
       "    .dataframe tbody tr th {\n",
       "        vertical-align: top;\n",
       "    }\n",
       "\n",
       "    .dataframe thead th {\n",
       "        text-align: right;\n",
       "    }\n",
       "</style>\n",
       "<table border=\"1\" class=\"dataframe\">\n",
       "  <thead>\n",
       "    <tr style=\"text-align: right;\">\n",
       "      <th></th>\n",
       "      <th>Hours Studied</th>\n",
       "      <th>Previous Scores</th>\n",
       "      <th>Sleep Hours</th>\n",
       "      <th>Sample Question Papers Practiced</th>\n",
       "      <th>Performance Index</th>\n",
       "    </tr>\n",
       "  </thead>\n",
       "  <tbody>\n",
       "    <tr>\n",
       "      <th>Hours Studied</th>\n",
       "      <td>1.000000</td>\n",
       "      <td>-0.012390</td>\n",
       "      <td>0.001245</td>\n",
       "      <td>0.017463</td>\n",
       "      <td>0.373730</td>\n",
       "    </tr>\n",
       "    <tr>\n",
       "      <th>Previous Scores</th>\n",
       "      <td>-0.012390</td>\n",
       "      <td>1.000000</td>\n",
       "      <td>0.005944</td>\n",
       "      <td>0.007888</td>\n",
       "      <td>0.915189</td>\n",
       "    </tr>\n",
       "    <tr>\n",
       "      <th>Sleep Hours</th>\n",
       "      <td>0.001245</td>\n",
       "      <td>0.005944</td>\n",
       "      <td>1.000000</td>\n",
       "      <td>0.003990</td>\n",
       "      <td>0.048106</td>\n",
       "    </tr>\n",
       "    <tr>\n",
       "      <th>Sample Question Papers Practiced</th>\n",
       "      <td>0.017463</td>\n",
       "      <td>0.007888</td>\n",
       "      <td>0.003990</td>\n",
       "      <td>1.000000</td>\n",
       "      <td>0.043268</td>\n",
       "    </tr>\n",
       "    <tr>\n",
       "      <th>Performance Index</th>\n",
       "      <td>0.373730</td>\n",
       "      <td>0.915189</td>\n",
       "      <td>0.048106</td>\n",
       "      <td>0.043268</td>\n",
       "      <td>1.000000</td>\n",
       "    </tr>\n",
       "  </tbody>\n",
       "</table>\n",
       "</div>"
      ],
      "text/plain": [
       "                                  Hours Studied  Previous Scores  Sleep Hours  \\\n",
       "Hours Studied                          1.000000        -0.012390     0.001245   \n",
       "Previous Scores                       -0.012390         1.000000     0.005944   \n",
       "Sleep Hours                            0.001245         0.005944     1.000000   \n",
       "Sample Question Papers Practiced       0.017463         0.007888     0.003990   \n",
       "Performance Index                      0.373730         0.915189     0.048106   \n",
       "\n",
       "                                  Sample Question Papers Practiced  \\\n",
       "Hours Studied                                             0.017463   \n",
       "Previous Scores                                           0.007888   \n",
       "Sleep Hours                                               0.003990   \n",
       "Sample Question Papers Practiced                          1.000000   \n",
       "Performance Index                                         0.043268   \n",
       "\n",
       "                                  Performance Index  \n",
       "Hours Studied                              0.373730  \n",
       "Previous Scores                            0.915189  \n",
       "Sleep Hours                                0.048106  \n",
       "Sample Question Papers Practiced           0.043268  \n",
       "Performance Index                          1.000000  "
      ]
     },
     "execution_count": 11,
     "metadata": {},
     "output_type": "execute_result"
    }
   ],
   "source": [
    "cor = (df[[\"Hours Studied\",\"Previous Scores\",\"Sleep Hours\",\"Sample Question Papers Practiced\",\"Performance Index\"]]).corr()\n",
    "cor"
   ]
  },
  {
   "cell_type": "code",
   "execution_count": 12,
   "id": "ed1352ee",
   "metadata": {},
   "outputs": [
    {
     "data": {
      "text/plain": [
       "<Axes: >"
      ]
     },
     "execution_count": 12,
     "metadata": {},
     "output_type": "execute_result"
    },
    {
     "data": {
      "image/png": "[encoded data removed]",
      "text/plain": [
       "<Figure size 900x900 with 2 Axes>"
      ]
     },
     "metadata": {},
     "output_type": "display_data"
    }
   ],
   "source": [
    "plt.figure(figsize= (9,9))\n",
    "sns.heatmap(cor,annot =True)"
   ]
  },
  {
   "cell_type": "code",
   "execution_count": 24,
   "id": "e7d75695",
   "metadata": {},
   "outputs": [],
   "source": [
    "from sklearn.preprocessing import LabelEncoder"
   ]
  },
  {
   "cell_type": "code",
   "execution_count": 26,
   "id": "48f29aec",
   "metadata": {},
   "outputs": [],
   "source": [
    "le =LabelEncoder()\n",
    "df[\"Extracurricular Activities\"]=le.fit_transform(df[\"Extracurricular Activities\"])"
   ]
  },
  {
   "cell_type": "code",
   "execution_count": 28,
   "id": "6f72832f",
   "metadata": {},
   "outputs": [
    {
     "data": {
      "text/plain": [
       "0    5052\n",
       "1    4948\n",
       "Name: Extracurricular Activities, dtype: int64"
      ]
     },
     "execution_count": 28,
     "metadata": {},
     "output_type": "execute_result"
    }
   ],
   "source": [
    "df['Extracurricular Activities'].value_counts()"
   ]
  },
  {
   "cell_type": "code",
   "execution_count": 29,
   "id": "dd8293c7",
   "metadata": {},
   "outputs": [],
   "source": [
    "y = df[\"Performance Index\"]\n",
    "X = df.drop(\"Performance Index\",axis =1)"
   ]
  },
  {
   "cell_type": "code",
   "execution_count": 30,
   "id": "5143c6cb",
   "metadata": {},
   "outputs": [],
   "source": [
    "X_train,x_test,y_train,y_test = train_test_split(X,y,test_size =0.2,random_state =0)"
   ]
  },
  {
   "cell_type": "code",
   "execution_count": 31,
   "id": "b1100d5d",
   "metadata": {},
   "outputs": [
    {
     "data": {
      "text/html": [
       "<style>#sk-container-id-1 {color: black;}#sk-container-id-1 pre{padding: 0;}#sk-container-id-1 div.sk-toggleable {background-color: white;}#sk-container-id-1 label.sk-toggleable__label {cursor: pointer;display: block;width: 100%;margin-bottom: 0;padding: 0.3em;box-sizing: border-box;text-align: center;}#sk-container-id-1 label.sk-toggleable__label-arrow:before {content: \"▸\";float: left;margin-right: 0.25em;color: #696969;}#sk-container-id-1 label.sk-toggleable__label-arrow:hover:before {color: black;}#sk-container-id-1 div.sk-estimator:hover label.sk-toggleable__label-arrow:before {color: black;}#sk-container-id-1 div.sk-toggleable__content {max-height: 0;max-width: 0;overflow: hidden;text-align: left;background-color: #f0f8ff;}#sk-container-id-1 div.sk-toggleable__content pre {margin: 0.2em;color: black;border-radius: 0.25em;background-color: #f0f8ff;}#sk-container-id-1 input.sk-toggleable__control:checked~div.sk-toggleable__content {max-height: 200px;max-width: 100%;overflow: auto;}#sk-container-id-1 input.sk-toggleable__control:checked~label.sk-toggleable__label-arrow:before {content: \"▾\";}#sk-container-id-1 div.sk-estimator input.sk-toggleable__control:checked~label.sk-toggleable__label {background-color: #d4ebff;}#sk-container-id-1 div.sk-label input.sk-toggleable__control:checked~label.sk-toggleable__label {background-color: #d4ebff;}#sk-container-id-1 input.sk-hidden--visually {border: 0;clip: rect(1px 1px 1px 1px);clip: rect(1px, 1px, 1px, 1px);height: 1px;margin: -1px;overflow: hidden;padding: 0;position: absolute;width: 1px;}#sk-container-id-1 div.sk-estimator {font-family: monospace;background-color: #f0f8ff;border: 1px dotted black;border-radius: 0.25em;box-sizing: border-box;margin-bottom: 0.5em;}#sk-container-id-1 div.sk-estimator:hover {background-color: #d4ebff;}#sk-container-id-1 div.sk-parallel-item::after {content: \"\";width: 100%;border-bottom: 1px solid gray;flex-grow: 1;}#sk-container-id-1 div.sk-label:hover label.sk-toggleable__label {background-color: #d4ebff;}#sk-container-id-1 div.sk-serial::before {content: \"\";position: absolute;border-left: 1px solid gray;box-sizing: border-box;top: 0;bottom: 0;left: 50%;z-index: 0;}#sk-container-id-1 div.sk-serial {display: flex;flex-direction: column;align-items: center;background-color: white;padding-right: 0.2em;padding-left: 0.2em;position: relative;}#sk-container-id-1 div.sk-item {position: relative;z-index: 1;}#sk-container-id-1 div.sk-parallel {display: flex;align-items: stretch;justify-content: center;background-color: white;position: relative;}#sk-container-id-1 div.sk-item::before, #sk-container-id-1 div.sk-parallel-item::before {content: \"\";position: absolute;border-left: 1px solid gray;box-sizing: border-box;top: 0;bottom: 0;left: 50%;z-index: -1;}#sk-container-id-1 div.sk-parallel-item {display: flex;flex-direction: column;z-index: 1;position: relative;background-color: white;}#sk-container-id-1 div.sk-parallel-item:first-child::after {align-self: flex-end;width: 50%;}#sk-container-id-1 div.sk-parallel-item:last-child::after {align-self: flex-start;width: 50%;}#sk-container-id-1 div.sk-parallel-item:only-child::after {width: 0;}#sk-container-id-1 div.sk-dashed-wrapped {border: 1px dashed gray;margin: 0 0.4em 0.5em 0.4em;box-sizing: border-box;padding-bottom: 0.4em;background-color: white;}#sk-container-id-1 div.sk-label label {font-family: monospace;font-weight: bold;display: inline-block;line-height: 1.2em;}#sk-container-id-1 div.sk-label-container {text-align: center;}#sk-container-id-1 div.sk-container {/* jupyter's `normalize.less` sets `[hidden] { display: none; }` but bootstrap.min.css set `[hidden] { display: none !important; }` so we also need the `!important` here to be able to override the default hidden behavior on the sphinx rendered scikit-learn.org. See: https://github.com/scikit-learn/scikit-learn/issues/21755 */display: inline-block !important;position: relative;}#sk-container-id-1 div.sk-text-repr-fallback {display: none;}</style><div id=\"sk-container-id-1\" class=\"sk-top-container\"><div class=\"sk-text-repr-fallback\"><pre>LinearRegression()</pre><b>In a Jupyter environment, please rerun this cell to show the HTML representation or trust the notebook. <br />On GitHub, the HTML representation is unable to render, please try loading this page with nbviewer.org.</b></div><div class=\"sk-container\" hidden><div class=\"sk-item\"><div class=\"sk-estimator sk-toggleable\"><input class=\"sk-toggleable__control sk-hidden--visually\" id=\"sk-estimator-id-1\" type=\"checkbox\" checked><label for=\"sk-estimator-id-1\" class=\"sk-toggleable__label sk-toggleable__label-arrow\">LinearRegression</label><div class=\"sk-toggleable__content\"><pre>LinearRegression()</pre></div></div></div></div></div>"
      ],
      "text/plain": [
       "LinearRegression()"
      ]
     },
     "execution_count": 31,
     "metadata": {},
     "output_type": "execute_result"
    }
   ],
   "source": [
    "from sklearn.linear_model import LinearRegression\n",
    "\n",
    "model = LinearRegression()\n",
    "model.fit(X_train,y_train)"
   ]
  },
  {
   "cell_type": "code",
   "execution_count": 32,
   "id": "3035b41f",
   "metadata": {},
   "outputs": [],
   "source": [
    "y_pred =model.predict(x_test)"
   ]
  },
  {
   "cell_type": "code",
   "execution_count": 33,
   "id": "26b07d3e",
   "metadata": {},
   "outputs": [
    {
     "name": "stdout",
     "output_type": "stream",
     "text": [
      "MSE :  4.105609215835832\n",
      "R2 Score:  0.9880686410711422\n"
     ]
    }
   ],
   "source": [
    "from sklearn.metrics import mean_squared_error ,r2_score\n",
    "\n",
    "mse = mean_squared_error(y_test,y_pred)\n",
    "r2 =r2_score(y_test,y_pred)\n",
    "\n",
    "print('MSE : ',mse)\n",
    "print('R2 Score: ',r2)"
   ]
  },
  {
   "cell_type": "code",
   "execution_count": 34,
   "id": "50b47e78",
   "metadata": {},
   "outputs": [
    {
     "name": "stdout",
     "output_type": "stream",
     "text": [
      "Intercept :  -34.0752082252134\n",
      " Coeff :  [2.85191442 1.01886667 0.66530347 0.47682996 0.18776637]\n"
     ]
    }
   ],
   "source": [
    "print(\"Intercept : \",model.intercept_)\n",
    "print(\" Coeff : \",model.coef_)"
   ]
  },
  {
   "cell_type": "code",
   "execution_count": 35,
   "id": "b8d17846",
   "metadata": {},
   "outputs": [],
   "source": [
    "## Elimination"
   ]
  },
  {
   "cell_type": "code",
   "execution_count": 36,
   "id": "42a65cf0",
   "metadata": {},
   "outputs": [],
   "source": [
    "import statsmodels.api as smf"
   ]
  },
  {
   "cell_type": "code",
   "execution_count": 37,
   "id": "060db1a9",
   "metadata": {},
   "outputs": [],
   "source": [
    "ols_model =smf.OLS(endog =y,exog =X).fit()"
   ]
  },
  {
   "cell_type": "code",
   "execution_count": 38,
   "id": "e4591a5d",
   "metadata": {},
   "outputs": [
    {
     "data": {
      "text/html": [
       "<table class=\"simpletable\">\n",
       "<caption>OLS Regression Results</caption>\n",
       "<tr>\n",
       "  <th>Dep. Variable:</th>    <td>Performance Index</td> <th>  R-squared (uncentered):</th>      <td>   0.990</td> \n",
       "</tr>\n",
       "<tr>\n",
       "  <th>Model:</th>                   <td>OLS</td>        <th>  Adj. R-squared (uncentered):</th> <td>   0.990</td> \n",
       "</tr>\n",
       "<tr>\n",
       "  <th>Method:</th>             <td>Least Squares</td>   <th>  F-statistic:       </th>          <td>1.991e+05</td>\n",
       "</tr>\n",
       "<tr>\n",
       "  <th>Date:</th>             <td>Sun, 12 May 2024</td>  <th>  Prob (F-statistic):</th>           <td>  0.00</td>  \n",
       "</tr>\n",
       "<tr>\n",
       "  <th>Time:</th>                 <td>11:52:20</td>      <th>  Log-Likelihood:    </th>          <td> -31819.</td> \n",
       "</tr>\n",
       "<tr>\n",
       "  <th>No. Observations:</th>      <td> 10000</td>       <th>  AIC:               </th>          <td>6.365e+04</td>\n",
       "</tr>\n",
       "<tr>\n",
       "  <th>Df Residuals:</th>          <td>  9995</td>       <th>  BIC:               </th>          <td>6.368e+04</td>\n",
       "</tr>\n",
       "<tr>\n",
       "  <th>Df Model:</th>              <td>     5</td>       <th>                     </th>              <td> </td>    \n",
       "</tr>\n",
       "<tr>\n",
       "  <th>Covariance Type:</th>      <td>nonrobust</td>     <th>                     </th>              <td> </td>    \n",
       "</tr>\n",
       "</table>\n",
       "<table class=\"simpletable\">\n",
       "<tr>\n",
       "                  <td></td>                    <th>coef</th>     <th>std err</th>      <th>t</th>      <th>P>|t|</th>  <th>[0.025</th>    <th>0.975]</th>  \n",
       "</tr>\n",
       "<tr>\n",
       "  <th>Hours Studied</th>                    <td>    2.1960</td> <td>    0.021</td> <td>  102.578</td> <td> 0.000</td> <td>    2.154</td> <td>    2.238</td>\n",
       "</tr>\n",
       "<tr>\n",
       "  <th>Previous Scores</th>                  <td>    0.8172</td> <td>    0.003</td> <td>  315.815</td> <td> 0.000</td> <td>    0.812</td> <td>    0.822</td>\n",
       "</tr>\n",
       "<tr>\n",
       "  <th>Extracurricular Activities</th>       <td>   -1.1709</td> <td>    0.115</td> <td>  -10.171</td> <td> 0.000</td> <td>   -1.397</td> <td>   -0.945</td>\n",
       "</tr>\n",
       "<tr>\n",
       "  <th>Sleep Hours</th>                      <td>   -1.5036</td> <td>    0.027</td> <td>  -55.479</td> <td> 0.000</td> <td>   -1.557</td> <td>   -1.450</td>\n",
       "</tr>\n",
       "<tr>\n",
       "  <th>Sample Question Papers Practiced</th> <td>   -0.2656</td> <td>    0.020</td> <td>  -13.455</td> <td> 0.000</td> <td>   -0.304</td> <td>   -0.227</td>\n",
       "</tr>\n",
       "</table>\n",
       "<table class=\"simpletable\">\n",
       "<tr>\n",
       "  <th>Omnibus:</th>       <td>45.733</td> <th>  Durbin-Watson:     </th> <td>   1.920</td>\n",
       "</tr>\n",
       "<tr>\n",
       "  <th>Prob(Omnibus):</th> <td> 0.000</td> <th>  Jarque-Bera (JB):  </th> <td>  33.682</td>\n",
       "</tr>\n",
       "<tr>\n",
       "  <th>Skew:</th>          <td> 0.002</td> <th>  Prob(JB):          </th> <td>4.85e-08</td>\n",
       "</tr>\n",
       "<tr>\n",
       "  <th>Kurtosis:</th>      <td> 2.716</td> <th>  Cond. No.          </th> <td>    143.</td>\n",
       "</tr>\n",
       "</table><br/><br/>Notes:<br/>[1] R² is computed without centering (uncentered) since the model does not contain a constant.<br/>[2] Standard Errors assume that the covariance matrix of the errors is correctly specified."
      ],
      "text/latex": [
       "\\begin{center}\n",
       "\\begin{tabular}{lclc}\n",
       "\\toprule\n",
       "\\textbf{Dep. Variable:}                   & Performance Index & \\textbf{  R-squared (uncentered):}      &     0.990   \\\\\n",
       "\\textbf{Model:}                           &        OLS        & \\textbf{  Adj. R-squared (uncentered):} &     0.990   \\\\\n",
       "\\textbf{Method:}                          &   Least Squares   & \\textbf{  F-statistic:       }          & 1.991e+05   \\\\\n",
       "\\textbf{Date:}                            &  Sun, 12 May 2024 & \\textbf{  Prob (F-statistic):}          &     0.00    \\\\\n",
       "\\textbf{Time:}                            &      11:52:20     & \\textbf{  Log-Likelihood:    }          &   -31819.   \\\\\n",
       "\\textbf{No. Observations:}                &        10000      & \\textbf{  AIC:               }          & 6.365e+04   \\\\\n",
       "\\textbf{Df Residuals:}                    &         9995      & \\textbf{  BIC:               }          & 6.368e+04   \\\\\n",
       "\\textbf{Df Model:}                        &            5      & \\textbf{                     }          &             \\\\\n",
       "\\textbf{Covariance Type:}                 &     nonrobust     & \\textbf{                     }          &             \\\\\n",
       "\\bottomrule\n",
       "\\end{tabular}\n",
       "\\begin{tabular}{lcccccc}\n",
       "                                          & \\textbf{coef} & \\textbf{std err} & \\textbf{t} & \\textbf{P$> |$t$|$} & \\textbf{[0.025} & \\textbf{0.975]}  \\\\\n",
       "\\midrule\n",
       "\\textbf{Hours Studied}                    &       2.1960  &        0.021     &   102.578  &         0.000        &        2.154    &        2.238     \\\\\n",
       "\\textbf{Previous Scores}                  &       0.8172  &        0.003     &   315.815  &         0.000        &        0.812    &        0.822     \\\\\n",
       "\\textbf{Extracurricular Activities}       &      -1.1709  &        0.115     &   -10.171  &         0.000        &       -1.397    &       -0.945     \\\\\n",
       "\\textbf{Sleep Hours}                      &      -1.5036  &        0.027     &   -55.479  &         0.000        &       -1.557    &       -1.450     \\\\\n",
       "\\textbf{Sample Question Papers Practiced} &      -0.2656  &        0.020     &   -13.455  &         0.000        &       -0.304    &       -0.227     \\\\\n",
       "\\bottomrule\n",
       "\\end{tabular}\n",
       "\\begin{tabular}{lclc}\n",
       "\\textbf{Omnibus:}       & 45.733 & \\textbf{  Durbin-Watson:     } &    1.920  \\\\\n",
       "\\textbf{Prob(Omnibus):} &  0.000 & \\textbf{  Jarque-Bera (JB):  } &   33.682  \\\\\n",
       "\\textbf{Skew:}          &  0.002 & \\textbf{  Prob(JB):          } & 4.85e-08  \\\\\n",
       "\\textbf{Kurtosis:}      &  2.716 & \\textbf{  Cond. No.          } &     143.  \\\\\n",
       "\\bottomrule\n",
       "\\end{tabular}\n",
       "%\\caption{OLS Regression Results}\n",
       "\\end{center}\n",
       "\n",
       "Notes: \\newline\n",
       " [1] R² is computed without centering (uncentered) since the model does not contain a constant. \\newline\n",
       " [2] Standard Errors assume that the covariance matrix of the errors is correctly specified."
      ],
      "text/plain": [
       "<class 'statsmodels.iolib.summary.Summary'>\n",
       "\"\"\"\n",
       "                                 OLS Regression Results                                \n",
       "=======================================================================================\n",
       "Dep. Variable:      Performance Index   R-squared (uncentered):                   0.990\n",
       "Model:                            OLS   Adj. R-squared (uncentered):              0.990\n",
       "Method:                 Least Squares   F-statistic:                          1.991e+05\n",
       "Date:                Sun, 12 May 2024   Prob (F-statistic):                        0.00\n",
       "Time:                        11:52:20   Log-Likelihood:                         -31819.\n",
       "No. Observations:               10000   AIC:                                  6.365e+04\n",
       "Df Residuals:                    9995   BIC:                                  6.368e+04\n",
       "Df Model:                           5                                                  \n",
       "Covariance Type:            nonrobust                                                  \n",
       "====================================================================================================\n",
       "                                       coef    std err          t      P>|t|      [0.025      0.975]\n",
       "----------------------------------------------------------------------------------------------------\n",
       "Hours Studied                        2.1960      0.021    102.578      0.000       2.154       2.238\n",
       "Previous Scores                      0.8172      0.003    315.815      0.000       0.812       0.822\n",
       "Extracurricular Activities          -1.1709      0.115    -10.171      0.000      -1.397      -0.945\n",
       "Sleep Hours                         -1.5036      0.027    -55.479      0.000      -1.557      -1.450\n",
       "Sample Question Papers Practiced    -0.2656      0.020    -13.455      0.000      -0.304      -0.227\n",
       "==============================================================================\n",
       "Omnibus:                       45.733   Durbin-Watson:                   1.920\n",
       "Prob(Omnibus):                  0.000   Jarque-Bera (JB):               33.682\n",
       "Skew:                           0.002   Prob(JB):                     4.85e-08\n",
       "Kurtosis:                       2.716   Cond. No.                         143.\n",
       "==============================================================================\n",
       "\n",
       "Notes:\n",
       "[1] R² is computed without centering (uncentered) since the model does not contain a constant.\n",
       "[2] Standard Errors assume that the covariance matrix of the errors is correctly specified.\n",
       "\"\"\""
      ]
     },
     "execution_count": 38,
     "metadata": {},
     "output_type": "execute_result"
    }
   ],
   "source": [
    "ols_model.summary()"
   ]
  },
  {
   "cell_type": "code",
   "execution_count": 41,
   "id": "a1d02298",
   "metadata": {},
   "outputs": [],
   "source": [
    "X_ols = X"
   ]
  },
  {
   "cell_type": "code",
   "execution_count": 42,
   "id": "205ef601",
   "metadata": {},
   "outputs": [],
   "source": [
    "X_ols = X_ols.drop(\"Previous Scores\",axis =1)"
   ]
  },
  {
   "cell_type": "code",
   "execution_count": 43,
   "id": "adda2335",
   "metadata": {},
   "outputs": [
    {
     "data": {
      "text/html": [
       "<table class=\"simpletable\">\n",
       "<caption>OLS Regression Results</caption>\n",
       "<tr>\n",
       "  <th>Dep. Variable:</th>    <td>Performance Index</td> <th>  R-squared (uncentered):</th>      <td>   0.891</td> \n",
       "</tr>\n",
       "<tr>\n",
       "  <th>Model:</th>                   <td>OLS</td>        <th>  Adj. R-squared (uncentered):</th> <td>   0.891</td> \n",
       "</tr>\n",
       "<tr>\n",
       "  <th>Method:</th>             <td>Least Squares</td>   <th>  F-statistic:       </th>          <td>2.040e+04</td>\n",
       "</tr>\n",
       "<tr>\n",
       "  <th>Date:</th>             <td>Sun, 12 May 2024</td>  <th>  Prob (F-statistic):</th>           <td>  0.00</td>  \n",
       "</tr>\n",
       "<tr>\n",
       "  <th>Time:</th>                 <td>12:13:10</td>      <th>  Log-Likelihood:    </th>          <td> -43799.</td> \n",
       "</tr>\n",
       "<tr>\n",
       "  <th>No. Observations:</th>      <td> 10000</td>       <th>  AIC:               </th>          <td>8.761e+04</td>\n",
       "</tr>\n",
       "<tr>\n",
       "  <th>Df Residuals:</th>          <td>  9996</td>       <th>  BIC:               </th>          <td>8.764e+04</td>\n",
       "</tr>\n",
       "<tr>\n",
       "  <th>Df Model:</th>              <td>     4</td>       <th>                     </th>              <td> </td>    \n",
       "</tr>\n",
       "<tr>\n",
       "  <th>Covariance Type:</th>      <td>nonrobust</td>     <th>                     </th>              <td> </td>    \n",
       "</tr>\n",
       "</table>\n",
       "<table class=\"simpletable\">\n",
       "<tr>\n",
       "                  <td></td>                    <th>coef</th>     <th>std err</th>      <th>t</th>      <th>P>|t|</th>  <th>[0.025</th>    <th>0.975]</th>  \n",
       "</tr>\n",
       "<tr>\n",
       "  <th>Hours Studied</th>                    <td>    3.9186</td> <td>    0.069</td> <td>   57.131</td> <td> 0.000</td> <td>    3.784</td> <td>    4.053</td>\n",
       "</tr>\n",
       "<tr>\n",
       "  <th>Extracurricular Activities</th>       <td>    4.2265</td> <td>    0.377</td> <td>   11.205</td> <td> 0.000</td> <td>    3.487</td> <td>    4.966</td>\n",
       "</tr>\n",
       "<tr>\n",
       "  <th>Sleep Hours</th>                      <td>    4.1362</td> <td>    0.068</td> <td>   61.234</td> <td> 0.000</td> <td>    4.004</td> <td>    4.269</td>\n",
       "</tr>\n",
       "<tr>\n",
       "  <th>Sample Question Papers Practiced</th> <td>    1.0868</td> <td>    0.064</td> <td>   17.019</td> <td> 0.000</td> <td>    0.962</td> <td>    1.212</td>\n",
       "</tr>\n",
       "</table>\n",
       "<table class=\"simpletable\">\n",
       "<tr>\n",
       "  <th>Omnibus:</th>       <td>1179.218</td> <th>  Durbin-Watson:     </th> <td>   2.011</td>\n",
       "</tr>\n",
       "<tr>\n",
       "  <th>Prob(Omnibus):</th>  <td> 0.000</td>  <th>  Jarque-Bera (JB):  </th> <td> 315.184</td>\n",
       "</tr>\n",
       "<tr>\n",
       "  <th>Skew:</th>           <td>-0.013</td>  <th>  Prob(JB):          </th> <td>3.62e-69</td>\n",
       "</tr>\n",
       "<tr>\n",
       "  <th>Kurtosis:</th>       <td> 2.131</td>  <th>  Cond. No.          </th> <td>    19.0</td>\n",
       "</tr>\n",
       "</table><br/><br/>Notes:<br/>[1] R² is computed without centering (uncentered) since the model does not contain a constant.<br/>[2] Standard Errors assume that the covariance matrix of the errors is correctly specified."
      ],
      "text/latex": [
       "\\begin{center}\n",
       "\\begin{tabular}{lclc}\n",
       "\\toprule\n",
       "\\textbf{Dep. Variable:}                   & Performance Index & \\textbf{  R-squared (uncentered):}      &     0.891   \\\\\n",
       "\\textbf{Model:}                           &        OLS        & \\textbf{  Adj. R-squared (uncentered):} &     0.891   \\\\\n",
       "\\textbf{Method:}                          &   Least Squares   & \\textbf{  F-statistic:       }          & 2.040e+04   \\\\\n",
       "\\textbf{Date:}                            &  Sun, 12 May 2024 & \\textbf{  Prob (F-statistic):}          &     0.00    \\\\\n",
       "\\textbf{Time:}                            &      12:13:10     & \\textbf{  Log-Likelihood:    }          &   -43799.   \\\\\n",
       "\\textbf{No. Observations:}                &        10000      & \\textbf{  AIC:               }          & 8.761e+04   \\\\\n",
       "\\textbf{Df Residuals:}                    &         9996      & \\textbf{  BIC:               }          & 8.764e+04   \\\\\n",
       "\\textbf{Df Model:}                        &            4      & \\textbf{                     }          &             \\\\\n",
       "\\textbf{Covariance Type:}                 &     nonrobust     & \\textbf{                     }          &             \\\\\n",
       "\\bottomrule\n",
       "\\end{tabular}\n",
       "\\begin{tabular}{lcccccc}\n",
       "                                          & \\textbf{coef} & \\textbf{std err} & \\textbf{t} & \\textbf{P$> |$t$|$} & \\textbf{[0.025} & \\textbf{0.975]}  \\\\\n",
       "\\midrule\n",
       "\\textbf{Hours Studied}                    &       3.9186  &        0.069     &    57.131  &         0.000        &        3.784    &        4.053     \\\\\n",
       "\\textbf{Extracurricular Activities}       &       4.2265  &        0.377     &    11.205  &         0.000        &        3.487    &        4.966     \\\\\n",
       "\\textbf{Sleep Hours}                      &       4.1362  &        0.068     &    61.234  &         0.000        &        4.004    &        4.269     \\\\\n",
       "\\textbf{Sample Question Papers Practiced} &       1.0868  &        0.064     &    17.019  &         0.000        &        0.962    &        1.212     \\\\\n",
       "\\bottomrule\n",
       "\\end{tabular}\n",
       "\\begin{tabular}{lclc}\n",
       "\\textbf{Omnibus:}       & 1179.218 & \\textbf{  Durbin-Watson:     } &    2.011  \\\\\n",
       "\\textbf{Prob(Omnibus):} &   0.000  & \\textbf{  Jarque-Bera (JB):  } &  315.184  \\\\\n",
       "\\textbf{Skew:}          &  -0.013  & \\textbf{  Prob(JB):          } & 3.62e-69  \\\\\n",
       "\\textbf{Kurtosis:}      &   2.131  & \\textbf{  Cond. No.          } &     19.0  \\\\\n",
       "\\bottomrule\n",
       "\\end{tabular}\n",
       "%\\caption{OLS Regression Results}\n",
       "\\end{center}\n",
       "\n",
       "Notes: \\newline\n",
       " [1] R² is computed without centering (uncentered) since the model does not contain a constant. \\newline\n",
       " [2] Standard Errors assume that the covariance matrix of the errors is correctly specified."
      ],
      "text/plain": [
       "<class 'statsmodels.iolib.summary.Summary'>\n",
       "\"\"\"\n",
       "                                 OLS Regression Results                                \n",
       "=======================================================================================\n",
       "Dep. Variable:      Performance Index   R-squared (uncentered):                   0.891\n",
       "Model:                            OLS   Adj. R-squared (uncentered):              0.891\n",
       "Method:                 Least Squares   F-statistic:                          2.040e+04\n",
       "Date:                Sun, 12 May 2024   Prob (F-statistic):                        0.00\n",
       "Time:                        12:13:10   Log-Likelihood:                         -43799.\n",
       "No. Observations:               10000   AIC:                                  8.761e+04\n",
       "Df Residuals:                    9996   BIC:                                  8.764e+04\n",
       "Df Model:                           4                                                  \n",
       "Covariance Type:            nonrobust                                                  \n",
       "====================================================================================================\n",
       "                                       coef    std err          t      P>|t|      [0.025      0.975]\n",
       "----------------------------------------------------------------------------------------------------\n",
       "Hours Studied                        3.9186      0.069     57.131      0.000       3.784       4.053\n",
       "Extracurricular Activities           4.2265      0.377     11.205      0.000       3.487       4.966\n",
       "Sleep Hours                          4.1362      0.068     61.234      0.000       4.004       4.269\n",
       "Sample Question Papers Practiced     1.0868      0.064     17.019      0.000       0.962       1.212\n",
       "==============================================================================\n",
       "Omnibus:                     1179.218   Durbin-Watson:                   2.011\n",
       "Prob(Omnibus):                  0.000   Jarque-Bera (JB):              315.184\n",
       "Skew:                          -0.013   Prob(JB):                     3.62e-69\n",
       "Kurtosis:                       2.131   Cond. No.                         19.0\n",
       "==============================================================================\n",
       "\n",
       "Notes:\n",
       "[1] R² is computed without centering (uncentered) since the model does not contain a constant.\n",
       "[2] Standard Errors assume that the covariance matrix of the errors is correctly specified.\n",
       "\"\"\""
      ]
     },
     "execution_count": 43,
     "metadata": {},
     "output_type": "execute_result"
    }
   ],
   "source": [
    "ols_model =smf.OLS(endog =y,exog =X_ols).fit()\n",
    "ols_model.summary()"
   ]
  },
  {
   "cell_type": "code",
   "execution_count": null,
   "id": "bbf8e831",
   "metadata": {},
   "outputs": [],
   "source": []
  }
 ],
 "metadata": {
  "kernelspec": {
   "display_name": "Python 3 (ipykernel)",
   "language": "python",
   "name": "python3"
  },
  "language_info": {
   "codemirror_mode": {
    "name": "ipython",
    "version": 3
   },
   "file_extension": ".py",
   "mimetype": "text/x-python",
   "name": "python",
   "nbconvert_exporter": "python",
   "pygments_lexer": "ipython3",
   "version": "3.11.4"
  }
 },
 "nbformat": 4,
 "nbformat_minor": 5
}
